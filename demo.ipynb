{
 "cells": [
  {
   "cell_type": "code",
   "execution_count": 1,
   "id": "93b12251",
   "metadata": {},
   "outputs": [],
   "source": [
    "import GameUI"
   ]
  },
  {
   "cell_type": "code",
   "execution_count": 2,
   "id": "59ab4b34",
   "metadata": {},
   "outputs": [
    {
     "data": {
      "text/markdown": [
       "H*e*llo there"
      ]
     },
     "metadata": {},
     "output_type": "display_data"
    },
    {
     "data": {
      "text/markdown": [
       "Aren't you cold?"
      ]
     },
     "metadata": {},
     "output_type": "display_data"
    },
    {
     "name": "stdout",
     "output_type": "stream",
     "text": [
      "38588\n"
     ]
    }
   ],
   "source": [
    "display = GameUI.Renderer()\n",
    "display.DisplayMd(\"H*e*llo there\")\n",
    "display.DisplayMd(\"Aren't you cold?\")\n",
    "print(display.RendererID)"
   ]
  }
 ],
 "metadata": {
  "kernelspec": {
   "display_name": "Python 3 (ipykernel)",
   "language": "python",
   "name": "python3"
  },
  "language_info": {
   "codemirror_mode": {
    "name": "ipython",
    "version": 3
   },
   "file_extension": ".py",
   "mimetype": "text/x-python",
   "name": "python",
   "nbconvert_exporter": "python",
   "pygments_lexer": "ipython3",
   "version": "3.10.6"
  },
  "vscode": {
   "interpreter": {
    "hash": "916dbcbb3f70747c44a77c7bcd40155683ae19c65e1c03b4aa3499c5328201f1"
   }
  }
 },
 "nbformat": 4,
 "nbformat_minor": 5
}
