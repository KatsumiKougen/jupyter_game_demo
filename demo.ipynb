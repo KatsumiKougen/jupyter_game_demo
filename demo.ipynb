{
 "cells": [
  {
   "cell_type": "code",
   "execution_count": 1,
   "id": "93b12251",
   "metadata": {
    "scrolled": true
   },
   "outputs": [],
   "source": [
    "import GameUI"
   ]
  },
  {
   "cell_type": "code",
   "execution_count": 2,
   "id": "59ab4b34",
   "metadata": {},
   "outputs": [
    {
     "data": {
      "text/markdown": [
       "### **<div style=\"background: red; color: white;\">Error!</div>**\n",
       "Element \"new\"'s display order cannot be a negative number\n",
       "\n",
       "|Error code|Caught by|\n",
       "|:-|:-|\n",
       "|`34`|Engine|\n",
       "\n",
       "----"
      ]
     },
     "metadata": {},
     "output_type": "display_data"
    },
    {
     "data": {
      "text/markdown": [
       "# Your Game"
      ]
     },
     "metadata": {},
     "output_type": "display_data"
    },
    {
     "data": {
      "text/markdown": [
       "New game &#x2014; `Player.NewGame()`\n",
       "\n",
       "Load game &#x2014; `Player.Load()`"
      ]
     },
     "metadata": {},
     "output_type": "display_data"
    },
    {
     "data": {
      "text/markdown": [
       "----\n",
       "Kiana Kaslana was here"
      ]
     },
     "metadata": {},
     "output_type": "display_data"
    },
    {
     "data": {
      "text/markdown": [
       "----\n",
       "This is a credit"
      ]
     },
     "metadata": {},
     "output_type": "display_data"
    }
   ],
   "source": [
    "display = GameUI.Renderer()\n",
    "\n",
    "display.SetMenu({\"credits\": [\"----\\nThis is a credit\", 3], \"footer\": [\"----\\nKiana Kaslana was here\", 2], \"new\": [\"okay\", -4]}, menutype=GameUI.MUTABLE_MENU)\n",
    "display.DisplayMenu()"
   ]
  }
 ],
 "metadata": {
  "kernelspec": {
   "display_name": "Python 3 (ipykernel)",
   "language": "python",
   "name": "python3"
  },
  "language_info": {
   "codemirror_mode": {
    "name": "ipython",
    "version": 3
   },
   "file_extension": ".py",
   "mimetype": "text/x-python",
   "name": "python",
   "nbconvert_exporter": "python",
   "pygments_lexer": "ipython3",
   "version": "3.10.6"
  },
  "vscode": {
   "interpreter": {
    "hash": "916dbcbb3f70747c44a77c7bcd40155683ae19c65e1c03b4aa3499c5328201f1"
   }
  }
 },
 "nbformat": 4,
 "nbformat_minor": 5
}
