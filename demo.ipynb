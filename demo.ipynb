{
 "cells": [
  {
   "cell_type": "code",
   "execution_count": 1,
   "id": "93b12251",
   "metadata": {},
   "outputs": [],
   "source": [
    "import GameUI"
   ]
  },
  {
   "cell_type": "code",
   "execution_count": 2,
   "id": "59ab4b34",
   "metadata": {},
   "outputs": [
    {
     "data": {
      "text/markdown": [
       "It's a **beautiful** day!"
      ]
     },
     "metadata": {},
     "output_type": "display_data"
    }
   ],
   "source": [
    "GameUI.DisplayMd(\"It's a **beautiful** day!\")"
   ]
  },
  {
   "cell_type": "code",
   "execution_count": 3,
   "id": "fec9a34c",
   "metadata": {},
   "outputs": [
    {
     "name": "stdout",
     "output_type": "stream",
     "text": [
      "okay!\n"
     ]
    },
    {
     "name": "stderr",
     "output_type": "stream",
     "text": [
      "/home/katsumi/python/jupyter-game_demo/GameUI.py:16: UserWarning: This template needs only 1 parameter, got 2 parameters instead\n",
      "  warnings.warn(f\"This template needs only {self._varsnum} parameter{'s' if self._varsnum>1 else ''}, got {self._paramsnum} parameter{'s' if self._paramsnum>1 else ''} instead\", UserWarning)\n"
     ]
    }
   ],
   "source": [
    "a = GameUI.Template(\"absolutely \\\\*adjective;...\", \"aaa\", \"a\", \"b\")\n",
    "a.VarList()\n",
    "print(\"okay!\")"
   ]
  },
  {
   "cell_type": "code",
   "execution_count": null,
   "id": "e9c38f1e",
   "metadata": {},
   "outputs": [],
   "source": []
  }
 ],
 "metadata": {
  "kernelspec": {
   "display_name": "Python 3 (ipykernel)",
   "language": "python",
   "name": "python3"
  },
  "language_info": {
   "codemirror_mode": {
    "name": "ipython",
    "version": 3
   },
   "file_extension": ".py",
   "mimetype": "text/x-python",
   "name": "python",
   "nbconvert_exporter": "python",
   "pygments_lexer": "ipython3",
   "version": "3.10.6"
  }
 },
 "nbformat": 4,
 "nbformat_minor": 5
}
