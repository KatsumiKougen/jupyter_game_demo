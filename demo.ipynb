{
 "cells": [
  {
   "attachments": {},
   "cell_type": "markdown",
   "id": "e4589dc3",
   "metadata": {},
   "source": [
    "**DO NOT IGNORE THIS:** Before doing anything; run this cell first."
   ]
  },
  {
   "cell_type": "code",
   "execution_count": 1,
   "id": "93b12251",
   "metadata": {
    "scrolled": true
   },
   "outputs": [],
   "source": [
    "import GameUI"
   ]
  },
  {
   "cell_type": "code",
   "execution_count": 4,
   "id": "59ab4b34",
   "metadata": {},
   "outputs": [
    {
     "data": {
      "text/markdown": [
       "### **<div style=\"background: red; color: white;\">Error!</div>**\n",
       "\"3\" is not a string\n",
       "\n",
       "|Error code|Caught by|\n",
       "|:-|:-|\n",
       "|`37`|Engine|\n",
       "\n",
       "----"
      ]
     },
     "metadata": {},
     "output_type": "display_data"
    },
    {
     "data": {
      "text/markdown": [
       "<center style=\"font-family: serif;\">The hero woke up in an unknown world...<br>full of crime, full of fear,<br>and full of malice.\n",
       "\n",
       "A world in ruins, caused by the Great Flame.\n",
       "\n",
       "The hero knew nothing about themself;<br>their name, their origin, nor their old days; all were lost in time.\n",
       "\n",
       "They carried only one mission —<br>to smite evil for their great crimes<br>and bring peace to this world as it used to have.</center>"
      ]
     },
     "metadata": {},
     "output_type": "display_data"
    },
    {
     "data": {
      "text/markdown": [
       "<center><span style=\"font-size: 3em;\">Awakened</span></center>"
      ]
     },
     "metadata": {},
     "output_type": "display_data"
    },
    {
     "data": {
      "text/markdown": [
       "*<center>Wake up... the hero.</center>*"
      ]
     },
     "metadata": {},
     "output_type": "display_data"
    },
    {
     "data": {
      "text/markdown": [
       "`Player.Start()` — start a new game | `Player.StartWithStats()` — start a new game with predetermined parameters, skipping the introduction sequence | `Player.HowToPlay()` or `Player.Help()` — show the user manual | `Player.LoadGame()` — load a saved game from storage"
      ]
     },
     "metadata": {},
     "output_type": "display_data"
    },
    {
     "data": {
      "text/markdown": [
       "----\n",
       "\n",
       "Created by Katsumi"
      ]
     },
     "metadata": {},
     "output_type": "display_data"
    }
   ],
   "source": [
    "display = GameUI.Renderer()\n",
    "\n",
    "menu = {\n",
    "    \"header\": [\n",
    "        \"<center style=\\\"font-family: serif;\\\">The hero woke up in an unknown world...<br>\"\n",
    "        \"full of crime, full of fear,<br>\"\n",
    "        \"and full of malice.\\n\"\n",
    "        \"\\n\"\n",
    "        \"A world in ruins, caused by the Great Flame.\\n\"\n",
    "        \"\\n\"\n",
    "        \"The hero knew nothing about themself;<br>\"\n",
    "        \"their name, their origin, nor their old days; all were lost in time.\\n\"\n",
    "        \"\\n\"\n",
    "        \"They carried only one mission —<br>\"\n",
    "        \"to smite evil for their great crimes<br>\"\n",
    "        \"and bring peace to this world as it used to have.\"\n",
    "        \"</center>\",\n",
    "        0\n",
    "    ],\n",
    "    \"title\": [\n",
    "        \"<center><span style=\\\"font-size: 3em;\\\">Awakened</span></center>\",\n",
    "        1\n",
    "    ],\n",
    "    \"subtitle\": [\n",
    "        \"*<center>Wake up... the hero.</center>*\",\n",
    "        2\n",
    "    ],\n",
    "    \"commands\": [\n",
    "        \"`Player.Start()` — start a new game | \"\n",
    "        \"`Player.StartWithStats()` — start a new game with predetermined parameters, skipping the introduction sequence | \"\n",
    "        \"`Player.HowToPlay()` or `Player.Help()` — show the user manual | \"\n",
    "        \"`Player.LoadGame()` — load a saved game from storage\",\n",
    "        3\n",
    "    ],\n",
    "    \"footer\": [\n",
    "        \"----\\n\"\n",
    "        \"\\n\"\n",
    "        \"Created by Katsumi\",\n",
    "        4\n",
    "    ]\n",
    "}\n",
    "\n",
    "display.SetMenu(menu, menutype=GameUI.MUTABLE_MENU)\n",
    "display.DisplayMenu()"
   ]
  }
 ],
 "metadata": {
  "kernelspec": {
   "display_name": "Python 3 (ipykernel)",
   "language": "python",
   "name": "python3"
  },
  "language_info": {
   "codemirror_mode": {
    "name": "ipython",
    "version": 3
   },
   "file_extension": ".py",
   "mimetype": "text/x-python",
   "name": "python",
   "nbconvert_exporter": "python",
   "pygments_lexer": "ipython3",
   "version": "3.10.6"
  },
  "vscode": {
   "interpreter": {
    "hash": "916dbcbb3f70747c44a77c7bcd40155683ae19c65e1c03b4aa3499c5328201f1"
   }
  }
 },
 "nbformat": 4,
 "nbformat_minor": 5
}
