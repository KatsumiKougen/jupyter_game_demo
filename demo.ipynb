{
 "cells": [
  {
   "cell_type": "code",
   "execution_count": 1,
   "id": "93b12251",
   "metadata": {},
   "outputs": [],
   "source": [
    "import GameUI"
   ]
  },
  {
   "cell_type": "code",
   "execution_count": 2,
   "id": "59ab4b34",
   "metadata": {},
   "outputs": [
    {
     "data": {
      "text/markdown": [
       "It's a **beautiful** day!"
      ]
     },
     "metadata": {},
     "output_type": "display_data"
    }
   ],
   "source": [
    "GameUI.DisplayMd(\"It's a **beautiful** day!\")"
   ]
  },
  {
   "cell_type": "code",
   "execution_count": 4,
   "id": "0a014f98",
   "metadata": {},
   "outputs": [
    {
     "data": {
      "text/markdown": [
       "# Player of the Year: ME\n",
       "It's a lucky day! This title goes to... **<u>ME</u>**"
      ]
     },
     "metadata": {},
     "output_type": "display_data"
    }
   ],
   "source": [
    "GameUI.DisplayMd(GameUI.Template(\"# Player of the Year: \\\\player;\\nIt's a lucky day! This title goes to... **<u>\\\\player;</u>**\", \"ME\", \"ME\"))"
   ]
  },
  {
   "cell_type": "code",
   "execution_count": null,
   "id": "59486104",
   "metadata": {},
   "outputs": [],
   "source": []
  }
 ],
 "metadata": {
  "kernelspec": {
   "display_name": "Python 3 (ipykernel)",
   "language": "python",
   "name": "python3"
  },
  "language_info": {
   "codemirror_mode": {
    "name": "ipython",
    "version": 3
   },
   "file_extension": ".py",
   "mimetype": "text/x-python",
   "name": "python",
   "nbconvert_exporter": "python",
   "pygments_lexer": "ipython3",
   "version": "3.10.6"
  },
  "vscode": {
   "interpreter": {
    "hash": "916dbcbb3f70747c44a77c7bcd40155683ae19c65e1c03b4aa3499c5328201f1"
   }
  }
 },
 "nbformat": 4,
 "nbformat_minor": 5
}
